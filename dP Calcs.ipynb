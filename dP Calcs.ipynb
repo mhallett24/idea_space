{
 "cells": [
  {
   "cell_type": "code",
   "execution_count": 1,
   "metadata": {},
   "outputs": [
    {
     "name": "stdout",
     "output_type": "stream",
     "text": [
      "Gravity at this altitude is: 32.01 ft/s^2.\n",
      "The volume of liquid in the vessel is: 1128.66 cubic feet.\n",
      "The mass of liquid in the vessel is: 5016.77 lbs\n"
     ]
    }
   ],
   "source": [
    "import math\n",
    "\n",
    "# Given values in English units\n",
    "diameter = 72 # in\n",
    "length = 480 # in\n",
    "acceleration = 5000 # ft/s^2\n",
    "altitude = 30000 # ft\n",
    "density = 71.2 # lb/ft^3\n",
    "pressure_range = 75 # psi\n",
    "sensitivity = 1 # psi/in\n",
    "pressure_transmitter = 75 # psi\n",
    "ullage = .02 # 2% ullage\n",
    "\n",
    "# Convert units\n",
    "density = density * 0.062427961 # lb/in^3\n",
    "\n",
    "# Calculate gravitational acceleration at altitude\n",
    "G = 3.432e-8 # ft^3/lb/s^2\n",
    "M = 1.3178e25 # lb\n",
    "R = 20925721 # feet\n",
    "h = altitude\n",
    "g = (G * M / (R + h)**2) / 32.174\n",
    "\n",
    "# Calculate hydrostatic pressure\n",
    "h_liquid = length - (1 - ullage) # feet\n",
    "P_hydrostatic = density * g * h_liquid / 144 # psi\n",
    "\n",
    "# Calculate differential pressure signal\n",
    "P_diff = pressure_transmitter / sensitivity # in\n",
    "\n",
    "# Calculate liquid volume\n",
    "P_range = pressure_range # psi\n",
    "P_span = P_range # psi\n",
    "V = P_diff / P_span * math.pi * (diameter / 2)**2 * h_liquid # in^3\n",
    "V = V * .0005787037037 # ft^3\n",
    "mass = density*V\n",
    "\n",
    "# Output result\n",
    "print(\"Gravity at this altitude is:\", round(g, 3), \"ft/s^2.\")\n",
    "print(\"The volume of liquid in the vessel is:\", round(V, 2), \"cubic feet.\")\n",
    "print(\"The mass of liquid in the vessel is:\", round(mass,2), \"lbs\")"
   ]
  }
 ],
 "metadata": {
  "kernelspec": {
   "display_name": "base",
   "language": "python",
   "name": "python3"
  },
  "language_info": {
   "codemirror_mode": {
    "name": "ipython",
    "version": 3
   },
   "file_extension": ".py",
   "mimetype": "text/x-python",
   "name": "python",
   "nbconvert_exporter": "python",
   "pygments_lexer": "ipython3",
   "version": "3.8.3"
  },
  "orig_nbformat": 4
 },
 "nbformat": 4,
 "nbformat_minor": 2
}
